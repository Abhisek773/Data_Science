{
 "cells": [
  {
   "cell_type": "markdown",
   "metadata": {},
   "source": [
    "# Questions 1 :\n",
    "### Create a numpy array starting from 2 till 50 with a stepsize of 3."
   ]
  },
  {
   "cell_type": "code",
   "execution_count": 1,
   "metadata": {},
   "outputs": [
    {
     "name": "stdout",
     "output_type": "stream",
     "text": [
      "[ 2  5  8 11 14 17 20 23 26 29 32 35 38 41 44 47]\n"
     ]
    }
   ],
   "source": [
    "import numpy as np\n",
    "arr = np.arange(2,50,3)\n",
    "print(arr)"
   ]
  },
  {
   "cell_type": "markdown",
   "metadata": {},
   "source": [
    "# Questions 2 :\n",
    "### Accept two lists of 5 elements each from the user.\n",
    "### Convert them to numpy arrays. Concatenate these arrays and print it. Also sort these arrays and print it."
   ]
  },
  {
   "cell_type": "code",
   "execution_count": 2,
   "metadata": {},
   "outputs": [
    {
     "name": "stdout",
     "output_type": "stream",
     "text": [
      "1\n",
      "4\n",
      "7\n",
      "8\n",
      "5\n",
      "\n",
      "2\n",
      "3\n",
      "6\n",
      "9\n",
      "0\n",
      "\n",
      "[1 4 7 8 5 2 3 6 9 0]\n",
      "[0 1 2 3 4 5 6 7 8 9]\n"
     ]
    }
   ],
   "source": [
    "import numpy as np\n",
    "\n",
    "lst = []\n",
    "lst2 = []\n",
    "\n",
    "for i in range(5):\n",
    "    lst1 = (int(input())) \n",
    "    lst.append(lst1)\n",
    "    \n",
    "print()    \n",
    "\n",
    "for i in range(5):\n",
    "    lst3 = (int(input())) \n",
    "    lst2.append(lst3)\n",
    "    \n",
    "print()   \n",
    "\n",
    "arr1 = np.array(lst)\n",
    "arr2 = np.array(lst2)\n",
    "arr3 = np.concatenate((arr1,arr2))\n",
    "print(arr3)\n",
    "arr4 = np.sort(arr3)\n",
    "print(arr4);"
   ]
  },
  {
   "cell_type": "code",
   "execution_count": null,
   "metadata": {},
   "outputs": [],
   "source": [
    "# import numpy as np\n",
    "\n",
    "# arr1,arr2 = (list(map(int,input().split())) for i in range(2))\n",
    "\n",
    "# arr1 = np.array(arr1)\n",
    "# arr2 = np.array(arr2)\n",
    "\n",
    "# print(np.concatenate((arr1,arr2)))\n",
    "\n",
    "# print(np.sort(np.concatenate((arr1,arr2))))"
   ]
  },
  {
   "cell_type": "markdown",
   "metadata": {},
   "source": [
    "# Questions 3 :\n",
    "### Write a code snippet to find the dimensions of a ndarray and its size."
   ]
  },
  {
   "cell_type": "code",
   "execution_count": 3,
   "metadata": {},
   "outputs": [
    {
     "name": "stdout",
     "output_type": "stream",
     "text": [
      "(2, 6)\n",
      "12\n"
     ]
    }
   ],
   "source": [
    "import numpy as np\n",
    "\n",
    "arr = np.array([[12,24,36,15,30,45],[16,32,64,17,34,51]])\n",
    "print(arr.shape)\n",
    "print(arr.size)"
   ]
  },
  {
   "cell_type": "markdown",
   "metadata": {},
   "source": [
    "# Questions 4 :\n",
    "### How to convert a 1D array into a 2D array? Demonstrate with the help of a code snippet\n",
    "### Hint: np.newaxis, np.expand_dims"
   ]
  },
  {
   "cell_type": "code",
   "execution_count": 12,
   "metadata": {},
   "outputs": [
    {
     "name": "stdout",
     "output_type": "stream",
     "text": [
      "[[41 42 43 44 45 46]] (1, 6)\n",
      "\n",
      "[[41 42]\n",
      " [43 44]\n",
      " [45 46]] (3, 2)\n"
     ]
    }
   ],
   "source": [
    "import numpy as np\n",
    "\n",
    "arr = np.array([[41, 42, 43, 44, 45,46]])\n",
    "print(arr, arr.shape)\n",
    "\n",
    "# arr_2 = np.expand_dims(arr,axis = 1)\n",
    "# print(arr_2)\n",
    "\n",
    "print()\n",
    "arr2 = arr.reshape(3,2)\n",
    "print(arr2, arr2.shape)"
   ]
  },
  {
   "cell_type": "markdown",
   "metadata": {},
   "source": [
    "# Questions 5 :\n",
    "### Consider two square numpy arrays. Stack them vertically and horizontally.\n",
    "### Hint: Use vstack(), hstack()"
   ]
  },
  {
   "cell_type": "code",
   "execution_count": 6,
   "metadata": {},
   "outputs": [
    {
     "data": {
      "text/plain": [
       "array([[3],\n",
       "       [5],\n",
       "       [7],\n",
       "       [5],\n",
       "       [7],\n",
       "       [9]])"
      ]
     },
     "execution_count": 6,
     "metadata": {},
     "output_type": "execute_result"
    }
   ],
   "source": [
    "import numpy as np\n",
    "x = np.array([[3], [5], [7]])\n",
    "y = np.array([[5], [7], [9]])\n",
    "np.vstack((x,y))"
   ]
  },
  {
   "cell_type": "code",
   "execution_count": 7,
   "metadata": {},
   "outputs": [
    {
     "data": {
      "text/plain": [
       "array([[3, 5],\n",
       "       [5, 7],\n",
       "       [7, 9]])"
      ]
     },
     "execution_count": 7,
     "metadata": {},
     "output_type": "execute_result"
    }
   ],
   "source": [
    "import numpy as np\n",
    "x = np.array([[3], [5], [7]])\n",
    "y = np.array([[5], [7], [9]])\n",
    "np.hstack((x,y))"
   ]
  },
  {
   "cell_type": "markdown",
   "metadata": {},
   "source": [
    "# Questions 6 :\n",
    "### How to get unique items and counts of unique items?"
   ]
  },
  {
   "cell_type": "code",
   "execution_count": 8,
   "metadata": {},
   "outputs": [
    {
     "name": "stdout",
     "output_type": "stream",
     "text": [
      "[[1 3]\n",
      " [2 2]\n",
      " [3 2]\n",
      " [4 3]\n",
      " [5 2]\n",
      " [6 1]]\n"
     ]
    }
   ],
   "source": [
    "import numpy as np\n",
    "number_list = np.array([1, 1, 2, 3, 4, 4, 1, 5, 6, 3, 4, 2, 5])\n",
    "\n",
    "(unique, counts) = np.unique(number_list, return_counts=True)\n",
    "frequencies = np.asarray((unique, counts)).T\n",
    "\n",
    "print(frequencies)"
   ]
  },
  {
   "cell_type": "code",
   "execution_count": 1,
   "metadata": {},
   "outputs": [],
   "source": [
    "# list1 = [1,3,1,5,2,4,7,6,2]\n",
    "\n",
    "# list1 = list(set(list1))\n",
    "\n",
    "# print(list1)"
   ]
  },
  {
   "cell_type": "code",
   "execution_count": null,
   "metadata": {},
   "outputs": [],
   "source": []
  }
 ],
 "metadata": {
  "kernelspec": {
   "display_name": "Python 3",
   "language": "python",
   "name": "python3"
  },
  "language_info": {
   "codemirror_mode": {
    "name": "ipython",
    "version": 3
   },
   "file_extension": ".py",
   "mimetype": "text/x-python",
   "name": "python",
   "nbconvert_exporter": "python",
   "pygments_lexer": "ipython3",
   "version": "3.8.3"
  }
 },
 "nbformat": 4,
 "nbformat_minor": 4
}
