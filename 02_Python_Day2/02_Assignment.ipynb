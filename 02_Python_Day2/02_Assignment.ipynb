{
 "cells": [
  {
   "cell_type": "markdown",
   "metadata": {},
   "source": [
    "# Qyestion 1 :\n",
    "### Create an empty list. Accept 10 numbers from the user and append to it the list if it is an even number.\n"
   ]
  },
  {
   "cell_type": "code",
   "execution_count": 8,
   "metadata": {
    "scrolled": true
   },
   "outputs": [
    {
     "name": "stdout",
     "output_type": "stream",
     "text": [
      "1\n",
      "2\n",
      "3\n",
      "4\n",
      "5\n",
      "6\n",
      "7\n",
      "8\n",
      "9\n",
      "10\n",
      "[2, 4, 6, 8, 10]\n"
     ]
    }
   ],
   "source": [
    "lst = []\n",
    "for i in range(10):\n",
    "    lst1 = (int(input())) \n",
    "    if lst1 % 2 == 0:\n",
    "        lst.append(lst1)\n",
    "        \n",
    "print(lst)        "
   ]
  },
  {
   "cell_type": "raw",
   "metadata": {},
   "source": []
  },
  {
   "cell_type": "markdown",
   "metadata": {},
   "source": [
    "# Questions 2:\n",
    "### Create a notebook on LIST COMPREHENSION. This exercise is to put you in a Self learning mode\n"
   ]
  },
  {
   "cell_type": "code",
   "execution_count": 2,
   "metadata": {},
   "outputs": [
    {
     "name": "stdout",
     "output_type": "stream",
     "text": [
      "['D', 'A', 'T', 'A', 'S', 'C', 'I', 'E', 'N', 'C', 'E']\n"
     ]
    }
   ],
   "source": [
    "x_letters = []\n",
    "\n",
    "for letter in 'DATASCIENCE':\n",
    "    x_letters.append(letter)\n",
    "\n",
    "print(x_letters)"
   ]
  },
  {
   "cell_type": "code",
   "execution_count": 3,
   "metadata": {},
   "outputs": [
    {
     "name": "stdout",
     "output_type": "stream",
     "text": [
      "['D', 'A', 'T', 'A', 'S', 'C', 'I', 'E', 'N', 'C', 'E']\n"
     ]
    }
   ],
   "source": [
    "x_letters = [ letter for letter in 'DATASCIENCE' ]\n",
    "print( x_letters)"
   ]
  },
  {
   "cell_type": "code",
   "execution_count": 4,
   "metadata": {},
   "outputs": [
    {
     "name": "stdout",
     "output_type": "stream",
     "text": [
      "['D', 'A', 'T', 'A', 'S', 'C', 'I', 'E', 'N', 'C', 'E']\n"
     ]
    }
   ],
   "source": [
    "letters = list(map(lambda x: x, 'DATASCIENCE'))\n",
    "print(letters)"
   ]
  },
  {
   "cell_type": "code",
   "execution_count": 5,
   "metadata": {},
   "outputs": [
    {
     "name": "stdout",
     "output_type": "stream",
     "text": [
      "[0, 2, 4, 6, 8, 10, 12, 14, 16, 18]\n"
     ]
    }
   ],
   "source": [
    "number_list = [ x for x in range(20) if x % 2 == 0]\n",
    "print(number_list)"
   ]
  },
  {
   "cell_type": "code",
   "execution_count": 6,
   "metadata": {},
   "outputs": [
    {
     "name": "stdout",
     "output_type": "stream",
     "text": [
      "[0, 10, 20, 30, 40, 50, 60, 70, 80, 90]\n"
     ]
    }
   ],
   "source": [
    "num_list = [y for y in range(100) if y % 2 == 0 if y % 5 == 0]\n",
    "print(num_list)"
   ]
  },
  {
   "cell_type": "raw",
   "metadata": {},
   "source": []
  },
  {
   "cell_type": "markdown",
   "metadata": {},
   "source": [
    "# Question 3 :\n",
    "### You have seen in the videos how powerful dictionary data structure is. In this assignment, given a number n, you have to write a program that generates a dictionary d which contains (i, i*i), where i is from 1 to n (both included). Then you have to just print this dictionary d."
   ]
  },
  {
   "cell_type": "code",
   "execution_count": 11,
   "metadata": {},
   "outputs": [
    {
     "name": "stdout",
     "output_type": "stream",
     "text": [
      "4\n",
      "{1: 1, 2: 4, 3: 9, 4: 16}\n"
     ]
    }
   ],
   "source": [
    "n = int(input())\n",
    "d = dict()\n",
    "for i in range(1, n+1):\n",
    "     d[i] = i * i\n",
    "print(d)        "
   ]
  },
  {
   "cell_type": "code",
   "execution_count": 12,
   "metadata": {},
   "outputs": [
    {
     "name": "stdout",
     "output_type": "stream",
     "text": [
      "8\n",
      "{1: 1, 2: 4, 3: 9, 4: 16, 5: 25, 6: 36, 7: 49, 8: 64}\n"
     ]
    }
   ],
   "source": [
    "userInput = int(input())\n",
    "\n",
    "myDict_1 = {1:1}  #Initialized a Dictionary\n",
    "\n",
    "for i in range(2,userInput+1): \n",
    "    myDict_1[i]=i*i\n",
    "\n",
    "print(myDict_1)"
   ]
  },
  {
   "cell_type": "markdown",
   "metadata": {},
   "source": [
    "# Questions 4:\n",
    "### There is a robot which wants to go the charging point to charge itself. The robot moves in a 2-D plane from the original point (0,0). The robot can move toward UP, DOWN, LEFT and RIGHT with given steps. The trace of robot movement is shown as the following:\n",
    "### UP 5\n",
    "### DOWN 3\n",
    "### LEFT 3\n",
    "### RIGHT 2\n",
    "\n",
    "### Then, the output of the program should be:\n",
    "### 2\n",
    "\n",
    "### The numbers after the direction are steps.Write a program to compute the distance between the current position after a sequence of movement and original point. If the distance is a float, then just print the nearest integer (use round() function for that and then convert it into an integer).\n",
    "\n",
    "### Input Format:\n",
    "### The first line of the input contains a number n which implies the number of directions to be given. The next n lines contain the direction and the step separated by a space.\n",
    "\n",
    "### Output Format:\n",
    "### Print the distance from the original position to the current position.\n",
    "\n",
    "### Example:\n",
    "### Input:\n",
    "### 4\n",
    "### UP 5\n",
    "### DOWN 3\n",
    "### LEFT 3\n",
    "### RIGHT 2\n",
    "\n",
    "### Output:\n",
    "### 2"
   ]
  },
  {
   "cell_type": "code",
   "execution_count": 9,
   "metadata": {},
   "outputs": [
    {
     "name": "stdout",
     "output_type": "stream",
     "text": [
      "UP 5\n",
      "DOWN 3\n",
      "LEFT 3\n",
      "RIGHT 2\n",
      "2\n"
     ]
    }
   ],
   "source": [
    "#Init vars\n",
    "pos=0\n",
    "moves={\"UP\":1j,\"DOWN\":-1j,\"LEFT\":-1,\"RIGHT\":1}\n",
    "\n",
    "#Set inputs\n",
    "\n",
    "data=[\"UP 5\",\"DOWN 3\",\"LEFT 3\",\"RIGHT 2\"]\n",
    "\n",
    "#Move robot on valid moves\n",
    "for inp in data:\n",
    "    parts=inp.split()    \n",
    "    mv=parts[0]\n",
    "    val=parts[1]\n",
    "    print (mv, val)\n",
    "    pos += moves[mv]*int(val)\n",
    "\n",
    "#get distance     \n",
    "print(round(abs(pos)))"
   ]
  },
  {
   "cell_type": "code",
   "execution_count": 1,
   "metadata": {},
   "outputs": [
    {
     "name": "stdout",
     "output_type": "stream",
     "text": [
      "2\n"
     ]
    }
   ],
   "source": [
    "from math import sqrt\n",
    "\n",
    "direction_steps = {\"UP\": 5, \"DOWN\": 3, \"LEFT\": 3, \"RIGHT\": 2}\n",
    "\n",
    "x1,y1 = 0,0\n",
    "\n",
    "'''\n",
    "    So we can consider the (UP - DOWN) as x2 and (LEFT - RIGHT) as y2\n",
    "    \n",
    "    x2 = (UP - DOWN) = 5 - 3 = 2\n",
    "    \n",
    "    y2 = (LEFT - RIGHT) = 3 - 2 = 1 \n",
    "    \n",
    "    Conditions\n",
    "    ----------\n",
    "    \n",
    "    1) UP >= DOWN\n",
    "    \n",
    "    2) LEFT >= RIGHT\n",
    "    \n",
    "    Otherwise, the coordinates will be in -ve value.\n",
    "    \n",
    "    Distance Formula = sqrt((x2 - x1)**2 + (y2 -y1)**2)\n",
    "    \n",
    "'''\n",
    "\n",
    "if direction_steps[\"UP\"] >= direction_steps[\"DOWN\"] and direction_steps[\"LEFT\"] >= direction_steps[\"RIGHT\"]:\n",
    "     \n",
    "        x2 = direction_steps[\"UP\"] - direction_steps[\"DOWN\"]\n",
    "        \n",
    "        y2 = direction_steps[\"LEFT\"] - direction_steps[\"RIGHT\"]\n",
    "        \n",
    "        distance = round(sqrt((x2 - x1)**2 + (y2 -y1)**2))  \n",
    "        \n",
    "        print(distance)"
   ]
  },
  {
   "cell_type": "code",
   "execution_count": null,
   "metadata": {},
   "outputs": [],
   "source": []
  }
 ],
 "metadata": {
  "kernelspec": {
   "display_name": "Python 3",
   "language": "python",
   "name": "python3"
  },
  "language_info": {
   "codemirror_mode": {
    "name": "ipython",
    "version": 3
   },
   "file_extension": ".py",
   "mimetype": "text/x-python",
   "name": "python",
   "nbconvert_exporter": "python",
   "pygments_lexer": "ipython3",
   "version": "3.8.3"
  }
 },
 "nbformat": 4,
 "nbformat_minor": 4
}
