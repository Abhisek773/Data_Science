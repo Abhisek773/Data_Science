{
 "cells": [
  {
   "cell_type": "markdown",
   "metadata": {},
   "source": [
    "# Loops :"
   ]
  },
  {
   "cell_type": "code",
   "execution_count": 1,
   "metadata": {},
   "outputs": [
    {
     "name": "stdout",
     "output_type": "stream",
     "text": [
      "[10, 20, 30, 40, 'Abhisek', 3.14]\n",
      "<class 'list'>\n"
     ]
    }
   ],
   "source": [
    "l = [10, 20, 30, 40, \"Abhisek\",3.14]\n",
    "print(l)\n",
    "print(type(l))"
   ]
  },
  {
   "cell_type": "code",
   "execution_count": 2,
   "metadata": {},
   "outputs": [
    {
     "name": "stdout",
     "output_type": "stream",
     "text": [
      "10\n",
      "20\n",
      "30\n",
      "40\n"
     ]
    }
   ],
   "source": [
    "# For Loop\n",
    "l = [10, 20, 30, 40]\n",
    "for i in l:\n",
    "    print(i)"
   ]
  },
  {
   "cell_type": "code",
   "execution_count": 3,
   "metadata": {},
   "outputs": [
    {
     "name": "stdout",
     "output_type": "stream",
     "text": [
      "I\n",
      "am\n",
      "Abhisek\n"
     ]
    }
   ],
   "source": [
    "l = [\"I\", \"am\", \"Abhisek\"]\n",
    "for _ in l:\n",
    "    print(_)"
   ]
  },
  {
   "cell_type": "raw",
   "metadata": {},
   "source": [
    "# While Loop\n",
    "\n",
    "Synatx:\n",
    "\n",
    "initialization\n",
    "while condition:\n",
    "    do this\n",
    "    do this\n",
    "    increment / decrement\n",
    "    "
   ]
  },
  {
   "cell_type": "markdown",
   "metadata": {},
   "source": [
    "### Program to print numbers from 1 to 10"
   ]
  },
  {
   "cell_type": "code",
   "execution_count": 4,
   "metadata": {},
   "outputs": [
    {
     "name": "stdout",
     "output_type": "stream",
     "text": [
      "1 2 3 4 5 6 7 8 9 10 "
     ]
    }
   ],
   "source": [
    "i = 1\n",
    "while i <= 10:\n",
    "    print(i,end = \" \")\n",
    "    i = i + 1"
   ]
  },
  {
   "cell_type": "markdown",
   "metadata": {},
   "source": [
    "### Program to print numbers from 10 to 1"
   ]
  },
  {
   "cell_type": "code",
   "execution_count": 5,
   "metadata": {},
   "outputs": [
    {
     "name": "stdout",
     "output_type": "stream",
     "text": [
      "10 9 8 7 6 5 4 3 2 1 "
     ]
    }
   ],
   "source": [
    "i = 10\n",
    "while i >= 1:\n",
    "    print(i,end = \" \")\n",
    "    i -= 1"
   ]
  },
  {
   "cell_type": "code",
   "execution_count": 6,
   "metadata": {},
   "outputs": [
    {
     "name": "stdout",
     "output_type": "stream",
     "text": [
      "10 11 12 13 14 15 "
     ]
    }
   ],
   "source": [
    "# end attribute\n",
    "\n",
    "for i in [10,11,12,13,14,15]:\n",
    "    print(i,end=\" \")"
   ]
  },
  {
   "cell_type": "code",
   "execution_count": 7,
   "metadata": {},
   "outputs": [
    {
     "name": "stdout",
     "output_type": "stream",
     "text": [
      "10\n",
      "11\n",
      "12\n",
      "13\n",
      "14\n",
      "15\n"
     ]
    }
   ],
   "source": [
    "for i in [10,11,12,13,14,15]:\n",
    "    print(i,end=\"\\n\")"
   ]
  },
  {
   "cell_type": "code",
   "execution_count": 8,
   "metadata": {},
   "outputs": [
    {
     "name": "stdout",
     "output_type": "stream",
     "text": [
      "10\n",
      "11\n",
      "12\n",
      "13\n",
      "14\n",
      "15\n"
     ]
    }
   ],
   "source": [
    "for i in [10,11,12,13,14,15]:\n",
    "    print(i)"
   ]
  },
  {
   "cell_type": "markdown",
   "metadata": {},
   "source": [
    "# Functions :"
   ]
  },
  {
   "cell_type": "code",
   "execution_count": 9,
   "metadata": {},
   "outputs": [
    {
     "name": "stdout",
     "output_type": "stream",
     "text": [
      "hello\n",
      "<class 'str'>\n",
      "12345\n",
      "2345.0\n",
      "343\n"
     ]
    }
   ],
   "source": [
    "# Built in function\n",
    "\n",
    "print(\"hello\")\n",
    "\n",
    "print(type(\"hello\"))\n",
    "\n",
    "print(int(12345.2345))\n",
    "\n",
    "print(float(2345))\n",
    "\n",
    "print(pow(7,3))"
   ]
  },
  {
   "cell_type": "code",
   "execution_count": 10,
   "metadata": {},
   "outputs": [
    {
     "name": "stdout",
     "output_type": "stream",
     "text": [
      "Hello\n",
      "I am learner from LetsUpgrade\n",
      "Function had ended\n"
     ]
    }
   ],
   "source": [
    "# User defined functions\n",
    "\n",
    "def greet():\n",
    "    print(\"Hello\")\n",
    "    print(\"I am learner from LetsUpgrade\")\n",
    "    \n",
    "greet()\n",
    "print(\"Function had ended\")"
   ]
  },
  {
   "cell_type": "code",
   "execution_count": 11,
   "metadata": {},
   "outputs": [
    {
     "name": "stdout",
     "output_type": "stream",
     "text": [
      "Hello\n",
      "I am learner from LetsUpgrade\n",
      "Hello\n",
      "I am learner from LetsUpgrade\n",
      "Hello\n",
      "I am learner from LetsUpgrade\n"
     ]
    }
   ],
   "source": [
    "for i in range(3):\n",
    "    greet()"
   ]
  },
  {
   "cell_type": "code",
   "execution_count": 12,
   "metadata": {},
   "outputs": [
    {
     "name": "stdout",
     "output_type": "stream",
     "text": [
      "1 2 3 4 5 6 7 8 9 10 "
     ]
    }
   ],
   "source": [
    "for i in range(1,11):\n",
    "    print(i,end = \" \")"
   ]
  },
  {
   "cell_type": "code",
   "execution_count": 13,
   "metadata": {},
   "outputs": [
    {
     "name": "stdout",
     "output_type": "stream",
     "text": [
      "1 3 5 7 9 11 13 15 17 19 "
     ]
    }
   ],
   "source": [
    "for i in range(1,21,2):\n",
    "    print(i,end = \" \")"
   ]
  },
  {
   "cell_type": "code",
   "execution_count": 14,
   "metadata": {},
   "outputs": [
    {
     "name": "stdout",
     "output_type": "stream",
     "text": [
      "Enter the number to squared: 8\n",
      "64\n"
     ]
    }
   ],
   "source": [
    "def mno(a):\n",
    "    print(pow(a,2))\n",
    "    \n",
    "mno(int(input(\"Enter the number to squared: \")))    "
   ]
  },
  {
   "cell_type": "code",
   "execution_count": 15,
   "metadata": {},
   "outputs": [
    {
     "name": "stdout",
     "output_type": "stream",
     "text": [
      "27\n",
      "5.4\n",
      "abhiabhiabhi\n",
      "[1, 3, 6, 1, 3, 6, 1, 3, 6]\n"
     ]
    }
   ],
   "source": [
    "def mno(a):\n",
    "    print(a * 3)\n",
    "    \n",
    "mno(9)\n",
    "mno(1.8)\n",
    "mno(\"abhi\")\n",
    "mno([1, 3, 6])"
   ]
  },
  {
   "cell_type": "code",
   "execution_count": 16,
   "metadata": {},
   "outputs": [
    {
     "name": "stdout",
     "output_type": "stream",
     "text": [
      "Enter 1st number: 16\n",
      "Enter 2nd number: 4\n",
      "Add =   20.0\n",
      "Sub =   12.0\n",
      "Mul =   64.0\n",
      "Div =   4.0\n"
     ]
    }
   ],
   "source": [
    "def calculator(a,b):\n",
    "    print(\"Add =  \",a + b)\n",
    "    print(\"Sub =  \",a - b)\n",
    "    print(\"Mul =  \",a * b)\n",
    "    print(\"Div =  \",a / b)\n",
    "    \n",
    "# a = float(input(\"Enter 1st number: \"))\n",
    "# b = float(input(\"Enter 2nd number: \"))\n",
    "# calculator(a,b)\n",
    "calculator(float(input(\"Enter 1st number: \")),float(input(\"Enter 2nd number: \")))"
   ]
  },
  {
   "cell_type": "markdown",
   "metadata": {},
   "source": [
    "# String : "
   ]
  },
  {
   "cell_type": "code",
   "execution_count": 17,
   "metadata": {},
   "outputs": [
    {
     "name": "stdout",
     "output_type": "stream",
     "text": [
      "abhisek\n",
      "<class 'str'>\n",
      "a\n",
      "i\n",
      "True\n"
     ]
    }
   ],
   "source": [
    "a = \"abhisek\"\n",
    "print(a)\n",
    "print(type(a))\n",
    "\n",
    "#indexing\n",
    "print(a[0])\n",
    "print(a[3])\n",
    "print(a[6] == a[-1])"
   ]
  },
  {
   "cell_type": "code",
   "execution_count": 18,
   "metadata": {},
   "outputs": [
    {
     "name": "stdout",
     "output_type": "stream",
     "text": [
      "abhisek\n",
      "abhi\n",
      "abhisek\n",
      "abhi\n",
      "abhisek\n"
     ]
    }
   ],
   "source": [
    "a = \"abhisek\"\n",
    "print(a)\n",
    "\n",
    "#slice\n",
    "print(a[0:4])\n",
    "print(a[0:])\n",
    "print(a[:4])\n",
    "print(a[-7:])"
   ]
  },
  {
   "cell_type": "markdown",
   "metadata": {},
   "source": [
    "# List : "
   ]
  },
  {
   "cell_type": "code",
   "execution_count": 19,
   "metadata": {},
   "outputs": [
    {
     "name": "stdout",
     "output_type": "stream",
     "text": [
      "abhisek\n",
      "<class 'str'>\n",
      "['a', 'b', 'h', 'i', 's', 'e', 'k']\n",
      "<class 'list'>\n"
     ]
    }
   ],
   "source": [
    "a = \"abhisek\"\n",
    "print(a)\n",
    "print(type(a))\n",
    "\n",
    "#Converting string to a list using List()\n",
    "\n",
    "b = list(a)\n",
    "print(b)\n",
    "print(type(b))"
   ]
  },
  {
   "cell_type": "code",
   "execution_count": 20,
   "metadata": {},
   "outputs": [
    {
     "name": "stdout",
     "output_type": "stream",
     "text": [
      "['a', 'b', 'h', 'i', 's', 'e', 'k']\n",
      "a\n",
      "i\n",
      "True\n"
     ]
    }
   ],
   "source": [
    "str1 = \"abhisek\"\n",
    "s = list(str1)\n",
    "print(s)\n",
    "\n",
    "#indexing\n",
    "print(a[0])\n",
    "print(a[3])\n",
    "print(a[6] == a[-1])"
   ]
  },
  {
   "cell_type": "code",
   "execution_count": 21,
   "metadata": {},
   "outputs": [
    {
     "name": "stdout",
     "output_type": "stream",
     "text": [
      "['a', 'b', 'h', 'i', 's', 'e', 'k']\n",
      "['a', 'b', 'h', 'i']\n",
      "['a', 'b', 'h', 'i', 's', 'e', 'k']\n",
      "['a', 'b', 'h', 'i']\n",
      "['a', 'b', 'h', 'i', 's', 'e', 'k']\n"
     ]
    }
   ],
   "source": [
    "str1 = \"abhisek\"\n",
    "s = list(str1)\n",
    "print(s)\n",
    "\n",
    "#slice\n",
    "print(s[0:4])\n",
    "print(s[0:])\n",
    "print(s[:4])\n",
    "print(s[-7:])"
   ]
  },
  {
   "cell_type": "markdown",
   "metadata": {},
   "source": [
    "# Tuple"
   ]
  },
  {
   "cell_type": "raw",
   "metadata": {},
   "source": [
    "List  \n",
    "1. It is a collection of\n",
    "   dissimilar datatypes.\n",
    "2. Written inside []\n",
    "3. Mutable (flexible)\n",
    "\n",
    "------------------------\n",
    "\n",
    "Tuple\n",
    "1. It is a collection of\n",
    "   dissimilar datatypes.\n",
    "2. Written inside ()\n",
    "3. Immutable (fixed)"
   ]
  },
  {
   "cell_type": "code",
   "execution_count": 22,
   "metadata": {},
   "outputs": [
    {
     "name": "stdout",
     "output_type": "stream",
     "text": [
      "[1, 2, 3, 4]\n",
      "1\n",
      "[7, 2, 3, 4]\n"
     ]
    }
   ],
   "source": [
    "# List are mutable\n",
    "l = [1,2,3,4]\n",
    "print(l)\n",
    "print(l[0])\n",
    "l[0] = 7\n",
    "print(l)"
   ]
  },
  {
   "cell_type": "code",
   "execution_count": 23,
   "metadata": {},
   "outputs": [
    {
     "name": "stdout",
     "output_type": "stream",
     "text": [
      "(1, 2, 3, 4)\n",
      "1\n"
     ]
    }
   ],
   "source": [
    "# tuple are immutable\n",
    "l = (1,2,3,4)\n",
    "print(l)\n",
    "print(l[0])\n",
    "# l[0] = 4  fixed"
   ]
  },
  {
   "cell_type": "code",
   "execution_count": 24,
   "metadata": {},
   "outputs": [
    {
     "name": "stdout",
     "output_type": "stream",
     "text": [
      "abhisek\n",
      "a\n",
      "abhisek\n"
     ]
    }
   ],
   "source": [
    "# String are immutable\n",
    "s = \"abhisek\"\n",
    "print(s)\n",
    "print(s[0])\n",
    "#s[1] = \"B\" fixed\n",
    "print(s)"
   ]
  },
  {
   "cell_type": "code",
   "execution_count": 25,
   "metadata": {},
   "outputs": [
    {
     "name": "stdout",
     "output_type": "stream",
     "text": [
      "abhisek\n",
      "<class 'str'>\n",
      "('a', 'b', 'h', 'i', 's', 'e', 'k')\n",
      "<class 'tuple'>\n",
      "a\n",
      "i\n",
      "True\n",
      "abhi\n",
      "abhisek\n",
      "abhi\n",
      "abhisek\n"
     ]
    }
   ],
   "source": [
    "a = \"abhisek\"\n",
    "print(a)\n",
    "print(type(a))\n",
    "\n",
    "#Converting string to a list using List()\n",
    "\n",
    "b = tuple(a)\n",
    "print(b)\n",
    "print(type(b))\n",
    "\n",
    "#indexing\n",
    "print(a[0])\n",
    "print(a[3])\n",
    "print(a[6] == a[-1])\n",
    "\n",
    "#slice\n",
    "print(s[0:4])\n",
    "print(s[0:])\n",
    "print(s[:4])\n",
    "print(s[-7:])"
   ]
  },
  {
   "cell_type": "markdown",
   "metadata": {},
   "source": [
    "# Set :\n",
    "### It is unordered and unindexed"
   ]
  },
  {
   "cell_type": "code",
   "execution_count": 26,
   "metadata": {},
   "outputs": [
    {
     "name": "stdout",
     "output_type": "stream",
     "text": [
      "{1, 2, 3, 'apple', 'banana'}\n"
     ]
    }
   ],
   "source": [
    "s = {\"apple\",\"banana\",1,2,3}\n",
    "print(s)"
   ]
  },
  {
   "cell_type": "code",
   "execution_count": 27,
   "metadata": {},
   "outputs": [
    {
     "name": "stdout",
     "output_type": "stream",
     "text": [
      "{1, 2, 3, 'apple', 'banana'}\n"
     ]
    }
   ],
   "source": [
    "s = {\"apple\",\"banana\",1,2,3}\n",
    "print(s)\n",
    "# print(s[0]) \n",
    "#'set' object is not subscriptable"
   ]
  },
  {
   "cell_type": "markdown",
   "metadata": {},
   "source": [
    "# Dictionary : {Key: Value}"
   ]
  },
  {
   "cell_type": "code",
   "execution_count": 28,
   "metadata": {},
   "outputs": [
    {
     "name": "stdout",
     "output_type": "stream",
     "text": [
      "{1: 'C', 2: 'Java', 3: 'Python'}\n",
      "<class 'dict'>\n",
      "C\n",
      "Java\n"
     ]
    }
   ],
   "source": [
    "d = {1: \"C\",2 : \"Java\", 3: \"Python\"}\n",
    "print(d)\n",
    "print(type(d))\n",
    "print(d[1])\n",
    "print(d[2])"
   ]
  },
  {
   "cell_type": "code",
   "execution_count": 29,
   "metadata": {},
   "outputs": [
    {
     "name": "stdout",
     "output_type": "stream",
     "text": [
      "{1.1: 'JS', 2.2: 'React', 3.3: 'Angular', 'HTML': 10, 1234: (12+3j)}\n",
      "<class 'dict'>\n",
      "JS\n",
      "10\n",
      "(12+3j)\n",
      "dict_keys([1.1, 2.2, 3.3, 'HTML', 1234])\n",
      "dict_values(['JS', 'React', 'Angular', 10, (12+3j)])\n"
     ]
    }
   ],
   "source": [
    "d = {1.1 : \"JS\", 2.2: \"React\", 3.3: \"Angular\", \"HTML\": 10, 1234: 12+3j}\n",
    "print(d)\n",
    "print(type(d))\n",
    "print(d[1.1])\n",
    "print(d[\"HTML\"])\n",
    "print(d[1234])\n",
    "\n",
    "print(d.keys())\n",
    "print(d.values())"
   ]
  },
  {
   "cell_type": "code",
   "execution_count": 30,
   "metadata": {},
   "outputs": [
    {
     "name": "stdout",
     "output_type": "stream",
     "text": [
      "{1: 100, 2: 64}\n"
     ]
    }
   ],
   "source": [
    "d = {1:100, 2: 50, 2: 64}\n",
    "print(d)"
   ]
  },
  {
   "cell_type": "markdown",
   "metadata": {},
   "source": [
    "# String Functions : "
   ]
  },
  {
   "cell_type": "code",
   "execution_count": 31,
   "metadata": {},
   "outputs": [
    {
     "name": "stdout",
     "output_type": "stream",
     "text": [
      "Abhisek\n",
      "an apple a day keeps the doctor away\n",
      "AN APPLE A DAY KEEPS THE DOCTOR AWAY\n",
      "aBhIseK\n",
      "Mohbrbnb\n",
      "Mohbrana\n"
     ]
    }
   ],
   "source": [
    "a = \"AbHiSEk\"\n",
    "b = \"An AppLe A DaY KeEps ThE DoCToR awAy\"\n",
    "print(a.capitalize())\n",
    "print(b.lower())\n",
    "print(b.upper())\n",
    "print(a.swapcase())\n",
    "s1 = \"Moharana\"\n",
    "print(s1.replace('a','b'))\n",
    "print(s1.replace('a','b',1))"
   ]
  },
  {
   "cell_type": "markdown",
   "metadata": {},
   "source": [
    "# List Functions : "
   ]
  },
  {
   "cell_type": "code",
   "execution_count": 32,
   "metadata": {},
   "outputs": [
    {
     "name": "stdout",
     "output_type": "stream",
     "text": [
      "[1, 2, 3, 4, 5]\n",
      "[1, 2, 3, 4, 5, 6]\n",
      "[1, 2, 3, 4, 5]\n",
      "[1, 2, 3, 4, 5, 11, 12, 123, 1234]\n"
     ]
    }
   ],
   "source": [
    "l = [1, 2, 3, 4, 5]\n",
    "print(l)\n",
    "\n",
    "l.append(6)\n",
    "print(l)\n",
    "\n",
    "l.pop()\n",
    "print(l)\n",
    "\n",
    "l.extend([11,12,123,1234])\n",
    "print(l)"
   ]
  },
  {
   "cell_type": "code",
   "execution_count": 33,
   "metadata": {},
   "outputs": [
    {
     "name": "stdout",
     "output_type": "stream",
     "text": [
      "[2, 5, 8, 3, 9, 0]\n",
      "[0, 2, 3, 5, 8, 9]\n",
      "[9, 8, 5, 3, 2, 0]\n",
      "[0, 2, 3, 5, 8, 9]\n"
     ]
    }
   ],
   "source": [
    "l = [2,5,8,3,9,0]\n",
    "print(l)\n",
    "\n",
    "l.sort()\n",
    "print(l)\n",
    "\n",
    "l.sort(reverse = True)\n",
    "print(l)\n",
    "\n",
    "l.reverse()\n",
    "print(l)"
   ]
  },
  {
   "cell_type": "code",
   "execution_count": 34,
   "metadata": {},
   "outputs": [
    {
     "name": "stdout",
     "output_type": "stream",
     "text": [
      "[1, 2, 3, 5]\n",
      "[1, 2, 3, 4, 5]\n"
     ]
    }
   ],
   "source": [
    "l = [1, 2, 3, 5]\n",
    "print(l)\n",
    "l.insert(3,4)\n",
    "print(l)"
   ]
  },
  {
   "cell_type": "markdown",
   "metadata": {},
   "source": [
    "# Tuple Functions :"
   ]
  },
  {
   "cell_type": "code",
   "execution_count": 35,
   "metadata": {},
   "outputs": [
    {
     "name": "stdout",
     "output_type": "stream",
     "text": [
      "4\n",
      "45\n",
      "1\n"
     ]
    }
   ],
   "source": [
    "t = (1,2,34,45)\n",
    "print(len(t))\n",
    "print(max(t))\n",
    "print(min(t))"
   ]
  },
  {
   "cell_type": "markdown",
   "metadata": {},
   "source": [
    "# Set Functions :"
   ]
  },
  {
   "cell_type": "code",
   "execution_count": 36,
   "metadata": {},
   "outputs": [
    {
     "name": "stdout",
     "output_type": "stream",
     "text": [
      "cherry\n",
      "apple\n",
      "rasberry\n",
      "banana\n"
     ]
    }
   ],
   "source": [
    "s = {\"apple\",\"banana\",\"cherry\",\"rasberry\"}\n",
    "\n",
    "for i in s:\n",
    "    print(i)"
   ]
  },
  {
   "cell_type": "code",
   "execution_count": 37,
   "metadata": {},
   "outputs": [
    {
     "name": "stdout",
     "output_type": "stream",
     "text": [
      "True\n",
      "False\n",
      "{'apple', 'banana', 'mangos', 'rasberry', 'cherry'}\n",
      "True\n",
      "{'papaya', 'apple', 'banana', 'mangos', 'rasberry', 'cherry', 'watermalon'}\n",
      "7\n",
      "{'apple', 'banana', 'mangos', 'rasberry', 'cherry', 'watermalon'}\n"
     ]
    }
   ],
   "source": [
    "s = {\"apple\",\"banana\",\"cherry\",\"rasberry\"}\n",
    "\n",
    "print(\"apple\" in s)\n",
    "\n",
    "print(\"berry\" in s)\n",
    "\n",
    "s.add(\"mangos\")\n",
    "print(s)\n",
    "\n",
    "print(\"mangos\" in s)\n",
    "\n",
    "s.update([\"mangos\",\"watermalon\",\"papaya\"])\n",
    "print(s)\n",
    "\n",
    "print(len(s))\n",
    "\n",
    "s.remove(\"papaya\")\n",
    "print(s)"
   ]
  },
  {
   "cell_type": "markdown",
   "metadata": {},
   "source": [
    "# Dictionary Functions : "
   ]
  },
  {
   "cell_type": "code",
   "execution_count": 38,
   "metadata": {},
   "outputs": [
    {
     "name": "stdout",
     "output_type": "stream",
     "text": [
      "{1: 'HTML', 2: 'CSS', 3: 'JS', 4: 'React', 5: 'Angular'}\n",
      "<class 'dict'>\n",
      "{1: 'HTML', 2: 'CSS', 3: 'JS', 4: 'React', 5: 'Angular'}\n",
      "<class 'str'>\n",
      "dict_keys([1, 2, 3, 4, 5])\n",
      "<class 'dict_keys'>\n",
      "[1, 2, 3, 4, 5]\n",
      "dict_values(['HTML', 'CSS', 'JS', 'React', 'Angular'])\n",
      "['HTML', 'CSS', 'JS', 'React', 'Angular']\n",
      "{1: 'HTML', 2: 'CSS', 4: 'React', 5: 'Angular'}\n",
      "{}\n"
     ]
    }
   ],
   "source": [
    "d = {1: \"HTML\", 2: \"CSS\", 3: \"JS\", 4: \"React\", 5: \"Angular\"}\n",
    "\n",
    "print(d)\n",
    "print(type(d))\n",
    "\n",
    "print(str(d))\n",
    "print(type(str(d)))\n",
    "\n",
    "print(d.keys())\n",
    "print(type(d.keys()))\n",
    "print(list(d.keys()))\n",
    "\n",
    "print(d.values())\n",
    "print(list(d.values()))\n",
    "\n",
    "del d[3]\n",
    "print(d)\n",
    "\n",
    "d.clear()\n",
    "print(d)"
   ]
  },
  {
   "cell_type": "code",
   "execution_count": 39,
   "metadata": {},
   "outputs": [
    {
     "name": "stdout",
     "output_type": "stream",
     "text": [
      "{1: 'HTML', 2: 'CSS', 3: 'JS', 4: 'React'}\n",
      "{5: 'Angular'}\n",
      "{1: 'HTML', 2: 'CSS', 3: 'JS', 4: 'React', 5: 'Angular'}\n",
      "{5: 'Angular'}\n"
     ]
    }
   ],
   "source": [
    "d1 = {1: \"HTML\", 2: \"CSS\", 3: \"JS\", 4: \"React\" }\n",
    "d2 = {5: \"Angular\"}\n",
    "print(d1)\n",
    "print(d2)\n",
    "d1.update(d2)\n",
    "print(d1)\n",
    "print(d2)"
   ]
  }
 ],
 "metadata": {
  "kernelspec": {
   "display_name": "Python 3",
   "language": "python",
   "name": "python3"
  },
  "language_info": {
   "codemirror_mode": {
    "name": "ipython",
    "version": 3
   },
   "file_extension": ".py",
   "mimetype": "text/x-python",
   "name": "python",
   "nbconvert_exporter": "python",
   "pygments_lexer": "ipython3",
   "version": "3.8.3"
  }
 },
 "nbformat": 4,
 "nbformat_minor": 4
}
